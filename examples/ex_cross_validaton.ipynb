{
 "cells": [
  {
   "cell_type": "markdown",
   "metadata": {},
   "source": [
    "# Cross-validation of DeeSse simulations\n",
    "\n",
    "We have a synthetic dataset with 100 facies observations (encoded 0 or 1). We are going to use cross-validation approach to find the most suitable training image among three candidate TIs (we will call them A, B, C). We will also identify the what number of nearest neighbors should be used in order to get a best match with the data.\n",
    "\n",
    "We will use 5-fold cross-validation as implemented in the scikit-learn library. DeesseClassifier class has been implemented in a way that it is a valid classifier object and can be supplied to model_selection tools of scikit-learn. Quadratic scoring rule is also implemented in the geone package. We are going to use 5-fold stratified cross-validation with data shuffling and grid search cross-validation to check all combinations of parameters."
   ]
  },
  {
   "cell_type": "code",
   "execution_count": 155,
   "metadata": {},
   "outputs": [],
   "source": [
    "import numpy as np\n",
    "import pandas as pd\n",
    "\n",
    "from sklearn.model_selection import GridSearchCV\n",
    "from sklearn.model_selection import StratifiedKFold, KFold\n",
    "from sklearn.dummy import DummyClassifier\n",
    "\n",
    "from geone.img import readImageGslib, sampleFromImage, writePointSetGslib, writeImageGslib, imageToPointSet\n",
    "from geone.gslib import read\n",
    "from geone.imgplot import drawImage2D\n",
    "from geone.deesseinterface import DeesseClassifier, DeesseRegressor\n",
    "from geone.cv_metrics import brier_score, zero_one_score, balanced_linear_score, SkillScore, crps"
   ]
  },
  {
   "cell_type": "code",
   "execution_count": 2,
   "metadata": {},
   "outputs": [],
   "source": [
    "DATA_DIR = 'cv_data/'"
   ]
  },
  {
   "cell_type": "markdown",
   "metadata": {},
   "source": [
    "## Observations\n",
    "\n",
    "We have a classical gslib file with a point set and facies observations. We can load it to a dictionary of arrays, and then conveniently to a pandas dataframe."
   ]
  },
  {
   "cell_type": "code",
   "execution_count": 3,
   "metadata": {},
   "outputs": [
    {
     "data": {
      "text/html": [
       "<div>\n",
       "<style scoped>\n",
       "    .dataframe tbody tr th:only-of-type {\n",
       "        vertical-align: middle;\n",
       "    }\n",
       "\n",
       "    .dataframe tbody tr th {\n",
       "        vertical-align: top;\n",
       "    }\n",
       "\n",
       "    .dataframe thead th {\n",
       "        text-align: right;\n",
       "    }\n",
       "</style>\n",
       "<table border=\"1\" class=\"dataframe\">\n",
       "  <thead>\n",
       "    <tr style=\"text-align: right;\">\n",
       "      <th></th>\n",
       "      <th>X</th>\n",
       "      <th>Y</th>\n",
       "      <th>Z</th>\n",
       "      <th>code_real00000</th>\n",
       "    </tr>\n",
       "  </thead>\n",
       "  <tbody>\n",
       "    <tr>\n",
       "      <th>0</th>\n",
       "      <td>41.5</td>\n",
       "      <td>51.5</td>\n",
       "      <td>0.5</td>\n",
       "      <td>0.0</td>\n",
       "    </tr>\n",
       "    <tr>\n",
       "      <th>1</th>\n",
       "      <td>80.5</td>\n",
       "      <td>92.5</td>\n",
       "      <td>0.5</td>\n",
       "      <td>0.0</td>\n",
       "    </tr>\n",
       "    <tr>\n",
       "      <th>2</th>\n",
       "      <td>62.5</td>\n",
       "      <td>61.5</td>\n",
       "      <td>0.5</td>\n",
       "      <td>0.0</td>\n",
       "    </tr>\n",
       "    <tr>\n",
       "      <th>3</th>\n",
       "      <td>60.5</td>\n",
       "      <td>26.5</td>\n",
       "      <td>0.5</td>\n",
       "      <td>0.0</td>\n",
       "    </tr>\n",
       "    <tr>\n",
       "      <th>4</th>\n",
       "      <td>50.5</td>\n",
       "      <td>10.5</td>\n",
       "      <td>0.5</td>\n",
       "      <td>0.0</td>\n",
       "    </tr>\n",
       "  </tbody>\n",
       "</table>\n",
       "</div>"
      ],
      "text/plain": [
       "      X     Y    Z  code_real00000\n",
       "0  41.5  51.5  0.5             0.0\n",
       "1  80.5  92.5  0.5             0.0\n",
       "2  62.5  61.5  0.5             0.0\n",
       "3  60.5  26.5  0.5             0.0\n",
       "4  50.5  10.5  0.5             0.0"
      ]
     },
     "execution_count": 3,
     "metadata": {},
     "output_type": "execute_result"
    }
   ],
   "source": [
    "# read file to a dictionary of arrays\n",
    "observations = read(DATA_DIR+'sample_100.gslib')\n",
    "\n",
    "# and pass it directly to DataFrame constructor\n",
    "df_observations = pd.DataFrame(observations)\n",
    "df_observations.head()"
   ]
  },
  {
   "cell_type": "code",
   "execution_count": 4,
   "metadata": {},
   "outputs": [
    {
     "data": {
      "text/html": [
       "<div>\n",
       "<style scoped>\n",
       "    .dataframe tbody tr th:only-of-type {\n",
       "        vertical-align: middle;\n",
       "    }\n",
       "\n",
       "    .dataframe tbody tr th {\n",
       "        vertical-align: top;\n",
       "    }\n",
       "\n",
       "    .dataframe thead th {\n",
       "        text-align: right;\n",
       "    }\n",
       "</style>\n",
       "<table border=\"1\" class=\"dataframe\">\n",
       "  <thead>\n",
       "    <tr style=\"text-align: right;\">\n",
       "      <th></th>\n",
       "      <th>X</th>\n",
       "      <th>Y</th>\n",
       "      <th>Z</th>\n",
       "      <th>code_real00000</th>\n",
       "    </tr>\n",
       "  </thead>\n",
       "  <tbody>\n",
       "    <tr>\n",
       "      <th>count</th>\n",
       "      <td>100.000000</td>\n",
       "      <td>100.000000</td>\n",
       "      <td>100.0</td>\n",
       "      <td>100.000000</td>\n",
       "    </tr>\n",
       "    <tr>\n",
       "      <th>mean</th>\n",
       "      <td>49.510000</td>\n",
       "      <td>49.960000</td>\n",
       "      <td>0.5</td>\n",
       "      <td>0.280000</td>\n",
       "    </tr>\n",
       "    <tr>\n",
       "      <th>std</th>\n",
       "      <td>29.644866</td>\n",
       "      <td>30.328977</td>\n",
       "      <td>0.0</td>\n",
       "      <td>0.451261</td>\n",
       "    </tr>\n",
       "    <tr>\n",
       "      <th>min</th>\n",
       "      <td>2.500000</td>\n",
       "      <td>1.500000</td>\n",
       "      <td>0.5</td>\n",
       "      <td>0.000000</td>\n",
       "    </tr>\n",
       "    <tr>\n",
       "      <th>25%</th>\n",
       "      <td>23.000000</td>\n",
       "      <td>19.250000</td>\n",
       "      <td>0.5</td>\n",
       "      <td>0.000000</td>\n",
       "    </tr>\n",
       "    <tr>\n",
       "      <th>50%</th>\n",
       "      <td>53.000000</td>\n",
       "      <td>51.000000</td>\n",
       "      <td>0.5</td>\n",
       "      <td>0.000000</td>\n",
       "    </tr>\n",
       "    <tr>\n",
       "      <th>75%</th>\n",
       "      <td>72.500000</td>\n",
       "      <td>76.500000</td>\n",
       "      <td>0.5</td>\n",
       "      <td>1.000000</td>\n",
       "    </tr>\n",
       "    <tr>\n",
       "      <th>max</th>\n",
       "      <td>98.500000</td>\n",
       "      <td>97.500000</td>\n",
       "      <td>0.5</td>\n",
       "      <td>1.000000</td>\n",
       "    </tr>\n",
       "  </tbody>\n",
       "</table>\n",
       "</div>"
      ],
      "text/plain": [
       "                X           Y      Z  code_real00000\n",
       "count  100.000000  100.000000  100.0      100.000000\n",
       "mean    49.510000   49.960000    0.5        0.280000\n",
       "std     29.644866   30.328977    0.0        0.451261\n",
       "min      2.500000    1.500000    0.5        0.000000\n",
       "25%     23.000000   19.250000    0.5        0.000000\n",
       "50%     53.000000   51.000000    0.5        0.000000\n",
       "75%     72.500000   76.500000    0.5        1.000000\n",
       "max     98.500000   97.500000    0.5        1.000000"
      ]
     },
     "execution_count": 4,
     "metadata": {},
     "output_type": "execute_result"
    }
   ],
   "source": [
    "# we can check basic stats of the point set\n",
    "df_observations.describe()"
   ]
  },
  {
   "cell_type": "code",
   "execution_count": 5,
   "metadata": {
    "scrolled": true
   },
   "outputs": [
    {
     "data": {
      "text/plain": [
       "<matplotlib.axes._subplots.AxesSubplot at 0x7f30cf6c2b38>"
      ]
     },
     "execution_count": 5,
     "metadata": {},
     "output_type": "execute_result"
    },
    {
     "data": {
      "image/png": "[encoded data removed]",
      "text/plain": [
       "<Figure size 432x288 with 2 Axes>"
      ]
     },
     "metadata": {
      "needs_background": "light"
     },
     "output_type": "display_data"
    }
   ],
   "source": [
    "# quick plot of the set\n",
    "df_observations.plot.scatter(x='X', y='Y', c='code_real00000', cmap='cividis')"
   ]
  },
  {
   "cell_type": "markdown",
   "metadata": {},
   "source": [
    "## DeeSse simulation engine\n",
    "\n",
    "We want to test what DeeSse parameters (including the TI) fit the best our observation set."
   ]
  },
  {
   "cell_type": "code",
   "execution_count": 6,
   "metadata": {},
   "outputs": [],
   "source": [
    "# Load training images using geone\n",
    "ti_A = readImageGslib(DATA_DIR+'A.gslib')\n",
    "ti_B = readImageGslib(DATA_DIR+'B.gslib')\n",
    "ti_C = readImageGslib(DATA_DIR+'C.gslib')"
   ]
  },
  {
   "cell_type": "code",
   "execution_count": 7,
   "metadata": {},
   "outputs": [
    {
     "data": {
      "image/png": "[encoded data removed]",
      "text/plain": [
       "<Figure size 432x288 with 2 Axes>"
      ]
     },
     "metadata": {
      "needs_background": "light"
     },
     "output_type": "display_data"
    }
   ],
   "source": [
    "# draw training images using geone\n",
    "drawImage2D(ti_A, categ=True)"
   ]
  },
  {
   "cell_type": "code",
   "execution_count": 8,
   "metadata": {},
   "outputs": [
    {
     "data": {
      "image/png": "[encoded data removed]",
      "text/plain": [
       "<Figure size 432x288 with 2 Axes>"
      ]
     },
     "metadata": {
      "needs_background": "light"
     },
     "output_type": "display_data"
    }
   ],
   "source": [
    "drawImage2D(ti_B, categ=True)"
   ]
  },
  {
   "cell_type": "code",
   "execution_count": 9,
   "metadata": {},
   "outputs": [
    {
     "data": {
      "image/png": "[encoded data removed]",
      "text/plain": [
       "<Figure size 432x288 with 2 Axes>"
      ]
     },
     "metadata": {
      "needs_background": "light"
     },
     "output_type": "display_data"
    }
   ],
   "source": [
    "drawImage2D(ti_C, categ=True)"
   ]
  },
  {
   "cell_type": "markdown",
   "metadata": {},
   "source": [
    "We need to set up DeesseClassifier. It takes the same arguements as DeesseInput plus varnames, which denotes variable names which will be attached to the observation set. Each column should have a name (including coordinates). In our case we have X,Y,Z and 'facies'. 'facies' is also the simulated variable. Note that the names which were read to the pandas DataFrame in the previous step do not matter, as only the values are passed to the simulation engine. Therefore we need to attach names to them to have them properly converted (internally) to a conditioning set."
   ]
  },
  {
   "cell_type": "code",
   "execution_count": 10,
   "metadata": {},
   "outputs": [],
   "source": [
    "# Define the interface for the DeeSse simulation tool\n",
    "deesse_classifier = DeesseClassifier(\n",
    "    varnames = ['X','Y','Z', 'facies'],\n",
    "        nx=100, ny=100, nz=1,     # dimension of the simulation grid (number of cells)\n",
    "        sx=1.0, sy=1.0, sz=1.0,   # cells units in the simulation grid (here are the default values)\n",
    "        ox=0.0, oy=0.0, oz=0.0,   # origin of the simulation grid (here are the default values)\n",
    "        nv=1, varname='facies',   # number of variable(s), name of the variable(s)\n",
    "        nTI=1, TI=ti_A,           # number of TI(s), TI (class dsi.Img)\n",
    "        distanceType=0,           # distance type: proportion of mismatching nodes (categorical var., default)\n",
    "        nneighboringNode=20,      # max. number of neighbors (for the patterns)\n",
    "        distanceThreshold=0.1,    # acceptation threshold (for distance between patterns)\n",
    "        maxScanFraction=0.25,     # max. scanned fraction of the TI (for simulation of each cell)\n",
    "        npostProcessingPathMax=1, # number of post-processing path(s)\n",
    "        seed=20191201,            # seed (initialization of the random number generator)\n",
    "        nrealization=4,           # number of realization(s)\n",
    "        nthreads=4)               # number of threads to use for simulations"
   ]
  },
  {
   "cell_type": "markdown",
   "metadata": {},
   "source": [
    "We can check if we properly defined the classifier by running simulate() method"
   ]
  },
  {
   "cell_type": "code",
   "execution_count": 11,
   "metadata": {},
   "outputs": [
    {
     "data": {
      "image/png": "[encoded data removed]",
      "text/plain": [
       "<Figure size 432x288 with 2 Axes>"
      ]
     },
     "metadata": {
      "needs_background": "light"
     },
     "output_type": "display_data"
    }
   ],
   "source": [
    "# run DeeSse and plot results\n",
    "sim = deesse_classifier.simulate()\n",
    "drawImage2D(sim['sim'][0], categ=True)"
   ]
  },
  {
   "cell_type": "markdown",
   "metadata": {},
   "source": [
    "## Cross-validation engine\n",
    "\n",
    "Now we are going to set-up cross validation. We will use scorers implemented in geone.cv_metrics module. Then, we will use GridSearchCV method of scikit-learn to evaluate all parameters combinations. We want to make sure that we use stratified cross-validation with data shuffling, therefore we are going to specify explicitly the split (again, by means of scikit-learn's splitter object).\n",
    "\n",
    "Note that we could also use different model_selection tools available form scikit-learn, such as cross_validate, etc."
   ]
  },
  {
   "cell_type": "markdown",
   "metadata": {},
   "source": [
    "### Scoring functions\n",
    "\n",
    "Scoring functions are implemented in geone. One could also define custom scorers or use functions from scikit-learn but the are not really suitable for probabilistic forecasts."
   ]
  },
  {
   "cell_type": "code",
   "execution_count": 12,
   "metadata": {},
   "outputs": [],
   "source": [
    "# use Brier score (quadratic score), zero-one score, balanced linear score\n",
    "# and quadratic skill, zero-one skill scores\n",
    "scoring = {\n",
    "    'brier':brier_score,\n",
    "    'zero_one':zero_one_score,\n",
    "    'linear':balanced_linear_score,\n",
    "    'skill_brier':SkillScore(DummyClassifier(strategy='prior'), 0, brier_score),\n",
    "    'skill_zero_one':SkillScore(DummyClassifier(strategy='prior'), 1, zero_one_score),\n",
    "}"
   ]
  },
  {
   "cell_type": "markdown",
   "metadata": {},
   "source": [
    "### Splitter definition\n",
    "\n",
    "We want to use 5-fold stratified cross-validation on randomly shuffled data. We use splitter implemented in scikit-learn package."
   ]
  },
  {
   "cell_type": "code",
   "execution_count": 13,
   "metadata": {},
   "outputs": [],
   "source": [
    "# Stratified 5-fold cross-validation with randomly shuffled data\n",
    "cv = StratifiedKFold(n_splits=5,\n",
    "                     shuffle=True,\n",
    "                     random_state=20191201,\n",
    "                    )\n"
   ]
  },
  {
   "cell_type": "markdown",
   "metadata": {},
   "source": [
    "### Model selection tool\n",
    "\n",
    "We are going to evaluate different sets of parameters, therefore it is convenient to use scikit learns's GridSearchCV."
   ]
  },
  {
   "cell_type": "code",
   "execution_count": 14,
   "metadata": {},
   "outputs": [],
   "source": [
    "# evaluate 3 training images and 3 different numbers of neighbors\n",
    "# cross_validator will need to run 9 times DeeSse (simulating nrealizations every time)\n",
    "cross_validator =  GridSearchCV(deesse_classifier,\n",
    "                    param_grid={'TI': [ti_A, ti_B, ti_C],\n",
    "                               'nneighboringNode': [5, 10, 15]},\n",
    "                    scoring=scoring,\n",
    "                    n_jobs=1,\n",
    "                    cv=cv,\n",
    "                    refit=False,\n",
    "                    verbose=0,\n",
    "                    error_score='raise',\n",
    "                    return_train_score=False,\n",
    "                   )"
   ]
  },
  {
   "cell_type": "code",
   "execution_count": 15,
   "metadata": {
    "scrolled": false
   },
   "outputs": [
    {
     "data": {
      "text/plain": [
       "GridSearchCV(cv=StratifiedKFold(n_splits=5, random_state=20191201, shuffle=True),\n",
       "             error_score='raise',\n",
       "             estimator=<geone.deesseinterface.DeesseClassifier object at 0x7f30cb614a58>,\n",
       "             iid='deprecated', n_jobs=1,\n",
       "             param_grid={'TI': [<geone.img.Img object at 0x7f30cca879b0>,\n",
       "                                <geone.img.Img object at 0x7f30cca874e0>,\n",
       "                                <geone.img.Img object at 0x7f30cca870b8>],\n",
       "                         'nneighboringNode':...\n",
       "             pre_dispatch='2*n_jobs', refit=False, return_train_score=False,\n",
       "             scoring={'brier': <function brier_score at 0x7f30cf6fcf28>,\n",
       "                      'linear': <function balanced_linear_score at 0x7f30cf6d8e18>,\n",
       "                      'skill_brier': <geone.cv_metrics.SkillScore object at 0x7f30cca87198>,\n",
       "                      'skill_zero_one': <geone.cv_metrics.SkillScore object at 0x7f30cb5be5f8>,\n",
       "                      'zero_one': <function zero_one_score at 0x7f30cf6d8b70>},\n",
       "             verbose=0)"
      ]
     },
     "execution_count": 15,
     "metadata": {},
     "output_type": "execute_result"
    }
   ],
   "source": [
    "# run the cross-validation with our observed data\n",
    "cross_validator.fit(X=df_observations[['X', 'Y', 'Z']],\n",
    "                    y=df_observations['code_real00000'])"
   ]
  },
  {
   "cell_type": "code",
   "execution_count": 16,
   "metadata": {},
   "outputs": [
    {
     "data": {
      "text/html": [
       "<div>\n",
       "<style scoped>\n",
       "    .dataframe tbody tr th:only-of-type {\n",
       "        vertical-align: middle;\n",
       "    }\n",
       "\n",
       "    .dataframe tbody tr th {\n",
       "        vertical-align: top;\n",
       "    }\n",
       "\n",
       "    .dataframe thead th {\n",
       "        text-align: right;\n",
       "    }\n",
       "</style>\n",
       "<table border=\"1\" class=\"dataframe\">\n",
       "  <thead>\n",
       "    <tr style=\"text-align: right;\">\n",
       "      <th></th>\n",
       "      <th>mean_fit_time</th>\n",
       "      <th>std_fit_time</th>\n",
       "      <th>mean_score_time</th>\n",
       "      <th>std_score_time</th>\n",
       "      <th>param_TI</th>\n",
       "      <th>param_nneighboringNode</th>\n",
       "      <th>params</th>\n",
       "      <th>split0_test_brier</th>\n",
       "      <th>split1_test_brier</th>\n",
       "      <th>split2_test_brier</th>\n",
       "      <th>...</th>\n",
       "      <th>std_test_skill_brier</th>\n",
       "      <th>rank_test_skill_brier</th>\n",
       "      <th>split0_test_skill_zero_one</th>\n",
       "      <th>split1_test_skill_zero_one</th>\n",
       "      <th>split2_test_skill_zero_one</th>\n",
       "      <th>split3_test_skill_zero_one</th>\n",
       "      <th>split4_test_skill_zero_one</th>\n",
       "      <th>mean_test_skill_zero_one</th>\n",
       "      <th>std_test_skill_zero_one</th>\n",
       "      <th>rank_test_skill_zero_one</th>\n",
       "    </tr>\n",
       "  </thead>\n",
       "  <tbody>\n",
       "    <tr>\n",
       "      <th>0</th>\n",
       "      <td>0.001230</td>\n",
       "      <td>0.000041</td>\n",
       "      <td>0.061188</td>\n",
       "      <td>0.001001</td>\n",
       "      <td>cv_data/A.gslib</td>\n",
       "      <td>5</td>\n",
       "      <td>{'TI': cv_data/A.gslib, 'nneighboringNode': 5}</td>\n",
       "      <td>-0.28750</td>\n",
       "      <td>-0.40000</td>\n",
       "      <td>-0.61875</td>\n",
       "      <td>...</td>\n",
       "      <td>0.371248</td>\n",
       "      <td>6</td>\n",
       "      <td>0.0</td>\n",
       "      <td>-0.1</td>\n",
       "      <td>-0.333333</td>\n",
       "      <td>0.416667</td>\n",
       "      <td>0.666667</td>\n",
       "      <td>0.130000</td>\n",
       "      <td>0.361847</td>\n",
       "      <td>3</td>\n",
       "    </tr>\n",
       "    <tr>\n",
       "      <th>1</th>\n",
       "      <td>0.001215</td>\n",
       "      <td>0.000016</td>\n",
       "      <td>0.060722</td>\n",
       "      <td>0.001009</td>\n",
       "      <td>cv_data/A.gslib</td>\n",
       "      <td>10</td>\n",
       "      <td>{'TI': cv_data/A.gslib, 'nneighboringNode': 10}</td>\n",
       "      <td>-0.24375</td>\n",
       "      <td>-0.36250</td>\n",
       "      <td>-0.61875</td>\n",
       "      <td>...</td>\n",
       "      <td>0.308923</td>\n",
       "      <td>7</td>\n",
       "      <td>0.2</td>\n",
       "      <td>0.1</td>\n",
       "      <td>-0.333333</td>\n",
       "      <td>0.250000</td>\n",
       "      <td>0.250000</td>\n",
       "      <td>0.093333</td>\n",
       "      <td>0.220252</td>\n",
       "      <td>7</td>\n",
       "    </tr>\n",
       "    <tr>\n",
       "      <th>2</th>\n",
       "      <td>0.001214</td>\n",
       "      <td>0.000011</td>\n",
       "      <td>0.097480</td>\n",
       "      <td>0.004293</td>\n",
       "      <td>cv_data/A.gslib</td>\n",
       "      <td>15</td>\n",
       "      <td>{'TI': cv_data/A.gslib, 'nneighboringNode': 15}</td>\n",
       "      <td>-0.16250</td>\n",
       "      <td>-0.33125</td>\n",
       "      <td>-0.48125</td>\n",
       "      <td>...</td>\n",
       "      <td>0.315579</td>\n",
       "      <td>1</td>\n",
       "      <td>0.5</td>\n",
       "      <td>0.0</td>\n",
       "      <td>0.000000</td>\n",
       "      <td>0.333333</td>\n",
       "      <td>0.833333</td>\n",
       "      <td>0.333333</td>\n",
       "      <td>0.316228</td>\n",
       "      <td>1</td>\n",
       "    </tr>\n",
       "    <tr>\n",
       "      <th>3</th>\n",
       "      <td>0.001211</td>\n",
       "      <td>0.000007</td>\n",
       "      <td>0.057123</td>\n",
       "      <td>0.000587</td>\n",
       "      <td>cv_data/B.gslib</td>\n",
       "      <td>5</td>\n",
       "      <td>{'TI': cv_data/B.gslib, 'nneighboringNode': 5}</td>\n",
       "      <td>-0.32500</td>\n",
       "      <td>-0.38125</td>\n",
       "      <td>-0.66250</td>\n",
       "      <td>...</td>\n",
       "      <td>0.309179</td>\n",
       "      <td>8</td>\n",
       "      <td>0.1</td>\n",
       "      <td>-0.2</td>\n",
       "      <td>-0.583333</td>\n",
       "      <td>-0.083333</td>\n",
       "      <td>0.250000</td>\n",
       "      <td>-0.103333</td>\n",
       "      <td>0.285073</td>\n",
       "      <td>9</td>\n",
       "    </tr>\n",
       "    <tr>\n",
       "      <th>4</th>\n",
       "      <td>0.001361</td>\n",
       "      <td>0.000270</td>\n",
       "      <td>0.063233</td>\n",
       "      <td>0.001237</td>\n",
       "      <td>cv_data/B.gslib</td>\n",
       "      <td>10</td>\n",
       "      <td>{'TI': cv_data/B.gslib, 'nneighboringNode': 10}</td>\n",
       "      <td>-0.22500</td>\n",
       "      <td>-0.36250</td>\n",
       "      <td>-0.45000</td>\n",
       "      <td>...</td>\n",
       "      <td>0.161626</td>\n",
       "      <td>4</td>\n",
       "      <td>0.4</td>\n",
       "      <td>-0.1</td>\n",
       "      <td>0.000000</td>\n",
       "      <td>0.250000</td>\n",
       "      <td>0.083333</td>\n",
       "      <td>0.126667</td>\n",
       "      <td>0.178450</td>\n",
       "      <td>4</td>\n",
       "    </tr>\n",
       "  </tbody>\n",
       "</table>\n",
       "<p>5 rows × 47 columns</p>\n",
       "</div>"
      ],
      "text/plain": [
       "   mean_fit_time  std_fit_time  mean_score_time  std_score_time  \\\n",
       "0       0.001230      0.000041         0.061188        0.001001   \n",
       "1       0.001215      0.000016         0.060722        0.001009   \n",
       "2       0.001214      0.000011         0.097480        0.004293   \n",
       "3       0.001211      0.000007         0.057123        0.000587   \n",
       "4       0.001361      0.000270         0.063233        0.001237   \n",
       "\n",
       "          param_TI param_nneighboringNode  \\\n",
       "0  cv_data/A.gslib                      5   \n",
       "1  cv_data/A.gslib                     10   \n",
       "2  cv_data/A.gslib                     15   \n",
       "3  cv_data/B.gslib                      5   \n",
       "4  cv_data/B.gslib                     10   \n",
       "\n",
       "                                            params  split0_test_brier  \\\n",
       "0   {'TI': cv_data/A.gslib, 'nneighboringNode': 5}           -0.28750   \n",
       "1  {'TI': cv_data/A.gslib, 'nneighboringNode': 10}           -0.24375   \n",
       "2  {'TI': cv_data/A.gslib, 'nneighboringNode': 15}           -0.16250   \n",
       "3   {'TI': cv_data/B.gslib, 'nneighboringNode': 5}           -0.32500   \n",
       "4  {'TI': cv_data/B.gslib, 'nneighboringNode': 10}           -0.22500   \n",
       "\n",
       "   split1_test_brier  split2_test_brier  ...  std_test_skill_brier  \\\n",
       "0           -0.40000           -0.61875  ...              0.371248   \n",
       "1           -0.36250           -0.61875  ...              0.308923   \n",
       "2           -0.33125           -0.48125  ...              0.315579   \n",
       "3           -0.38125           -0.66250  ...              0.309179   \n",
       "4           -0.36250           -0.45000  ...              0.161626   \n",
       "\n",
       "   rank_test_skill_brier  split0_test_skill_zero_one  \\\n",
       "0                      6                         0.0   \n",
       "1                      7                         0.2   \n",
       "2                      1                         0.5   \n",
       "3                      8                         0.1   \n",
       "4                      4                         0.4   \n",
       "\n",
       "   split1_test_skill_zero_one  split2_test_skill_zero_one  \\\n",
       "0                        -0.1                   -0.333333   \n",
       "1                         0.1                   -0.333333   \n",
       "2                         0.0                    0.000000   \n",
       "3                        -0.2                   -0.583333   \n",
       "4                        -0.1                    0.000000   \n",
       "\n",
       "   split3_test_skill_zero_one  split4_test_skill_zero_one  \\\n",
       "0                    0.416667                    0.666667   \n",
       "1                    0.250000                    0.250000   \n",
       "2                    0.333333                    0.833333   \n",
       "3                   -0.083333                    0.250000   \n",
       "4                    0.250000                    0.083333   \n",
       "\n",
       "   mean_test_skill_zero_one  std_test_skill_zero_one  rank_test_skill_zero_one  \n",
       "0                  0.130000                 0.361847                         3  \n",
       "1                  0.093333                 0.220252                         7  \n",
       "2                  0.333333                 0.316228                         1  \n",
       "3                 -0.103333                 0.285073                         9  \n",
       "4                  0.126667                 0.178450                         4  \n",
       "\n",
       "[5 rows x 47 columns]"
      ]
     },
     "execution_count": 16,
     "metadata": {},
     "output_type": "execute_result"
    }
   ],
   "source": [
    "# get the results as pandas DataFrame\n",
    "results = pd.DataFrame(cross_validator.cv_results_)\n",
    "results.head(5)"
   ]
  },
  {
   "cell_type": "code",
   "execution_count": 17,
   "metadata": {},
   "outputs": [
    {
     "data": {
      "text/html": [
       "<div>\n",
       "<style scoped>\n",
       "    .dataframe tbody tr th:only-of-type {\n",
       "        vertical-align: middle;\n",
       "    }\n",
       "\n",
       "    .dataframe tbody tr th {\n",
       "        vertical-align: top;\n",
       "    }\n",
       "\n",
       "    .dataframe thead th {\n",
       "        text-align: right;\n",
       "    }\n",
       "</style>\n",
       "<table border=\"1\" class=\"dataframe\">\n",
       "  <thead>\n",
       "    <tr style=\"text-align: right;\">\n",
       "      <th></th>\n",
       "      <th>param_TI</th>\n",
       "      <th>param_nneighboringNode</th>\n",
       "      <th>mean_test_brier</th>\n",
       "      <th>mean_test_zero_one</th>\n",
       "      <th>mean_test_linear</th>\n",
       "      <th>mean_test_skill_brier</th>\n",
       "      <th>mean_test_skill_zero_one</th>\n",
       "    </tr>\n",
       "  </thead>\n",
       "  <tbody>\n",
       "    <tr>\n",
       "      <th>2</th>\n",
       "      <td>cv_data/A.gslib</td>\n",
       "      <td>15</td>\n",
       "      <td>-0.27375</td>\n",
       "      <td>0.815</td>\n",
       "      <td>0.688571</td>\n",
       "      <td>0.323197</td>\n",
       "      <td>0.333333</td>\n",
       "    </tr>\n",
       "    <tr>\n",
       "      <th>8</th>\n",
       "      <td>cv_data/C.gslib</td>\n",
       "      <td>15</td>\n",
       "      <td>-0.31250</td>\n",
       "      <td>0.800</td>\n",
       "      <td>0.678571</td>\n",
       "      <td>0.234961</td>\n",
       "      <td>0.293333</td>\n",
       "    </tr>\n",
       "    <tr>\n",
       "      <th>6</th>\n",
       "      <td>cv_data/C.gslib</td>\n",
       "      <td>5</td>\n",
       "      <td>-0.33500</td>\n",
       "      <td>0.750</td>\n",
       "      <td>0.645833</td>\n",
       "      <td>0.171655</td>\n",
       "      <td>0.106667</td>\n",
       "    </tr>\n",
       "  </tbody>\n",
       "</table>\n",
       "</div>"
      ],
      "text/plain": [
       "          param_TI param_nneighboringNode  mean_test_brier  \\\n",
       "2  cv_data/A.gslib                     15         -0.27375   \n",
       "8  cv_data/C.gslib                     15         -0.31250   \n",
       "6  cv_data/C.gslib                      5         -0.33500   \n",
       "\n",
       "   mean_test_zero_one  mean_test_linear  mean_test_skill_brier  \\\n",
       "2               0.815          0.688571               0.323197   \n",
       "8               0.800          0.678571               0.234961   \n",
       "6               0.750          0.645833               0.171655   \n",
       "\n",
       "   mean_test_skill_zero_one  \n",
       "2                  0.333333  \n",
       "8                  0.293333  \n",
       "6                  0.106667  "
      ]
     },
     "execution_count": 17,
     "metadata": {},
     "output_type": "execute_result"
    }
   ],
   "source": [
    "# show three best scores (Brier score)\n",
    "features = ['param_TI', 'param_nneighboringNode',\n",
    "            'mean_test_brier', 'mean_test_zero_one',\n",
    "            'mean_test_linear', 'mean_test_skill_brier', 'mean_test_skill_zero_one']\n",
    "results.sort_values(by='mean_test_brier', ascending=False).head(3)[features]"
   ]
  },
  {
   "cell_type": "markdown",
   "metadata": {},
   "source": [
    "The training image A has a higher quadratic score and also zero-one score. Therefore, it is probably a more suitable training image for the problem at hand. It is also better to use a bigger number of neighboring nodes."
   ]
  },
  {
   "cell_type": "markdown",
   "metadata": {},
   "source": [
    "## Continuous cross-validation"
   ]
  },
  {
   "cell_type": "markdown",
   "metadata": {},
   "source": [
    "Let's use a dataset with continuous values and try to identify the best DS parameters."
   ]
  },
  {
   "cell_type": "code",
   "execution_count": 18,
   "metadata": {},
   "outputs": [
    {
     "data": {
      "text/html": [
       "<div>\n",
       "<style scoped>\n",
       "    .dataframe tbody tr th:only-of-type {\n",
       "        vertical-align: middle;\n",
       "    }\n",
       "\n",
       "    .dataframe tbody tr th {\n",
       "        vertical-align: top;\n",
       "    }\n",
       "\n",
       "    .dataframe thead th {\n",
       "        text-align: right;\n",
       "    }\n",
       "</style>\n",
       "<table border=\"1\" class=\"dataframe\">\n",
       "  <thead>\n",
       "    <tr style=\"text-align: right;\">\n",
       "      <th></th>\n",
       "      <th>X</th>\n",
       "      <th>Y</th>\n",
       "      <th>Z</th>\n",
       "      <th>facies_real00000</th>\n",
       "    </tr>\n",
       "  </thead>\n",
       "  <tbody>\n",
       "    <tr>\n",
       "      <th>count</th>\n",
       "      <td>100.000000</td>\n",
       "      <td>100.000000</td>\n",
       "      <td>100.0</td>\n",
       "      <td>100.000000</td>\n",
       "    </tr>\n",
       "    <tr>\n",
       "      <th>mean</th>\n",
       "      <td>49.040000</td>\n",
       "      <td>51.590000</td>\n",
       "      <td>0.5</td>\n",
       "      <td>129.310000</td>\n",
       "    </tr>\n",
       "    <tr>\n",
       "      <th>std</th>\n",
       "      <td>27.568251</td>\n",
       "      <td>26.294023</td>\n",
       "      <td>0.0</td>\n",
       "      <td>59.952455</td>\n",
       "    </tr>\n",
       "    <tr>\n",
       "      <th>min</th>\n",
       "      <td>4.500000</td>\n",
       "      <td>5.500000</td>\n",
       "      <td>0.5</td>\n",
       "      <td>3.000000</td>\n",
       "    </tr>\n",
       "    <tr>\n",
       "      <th>25%</th>\n",
       "      <td>23.250000</td>\n",
       "      <td>30.250000</td>\n",
       "      <td>0.5</td>\n",
       "      <td>97.750000</td>\n",
       "    </tr>\n",
       "    <tr>\n",
       "      <th>50%</th>\n",
       "      <td>49.000000</td>\n",
       "      <td>49.000000</td>\n",
       "      <td>0.5</td>\n",
       "      <td>154.500000</td>\n",
       "    </tr>\n",
       "    <tr>\n",
       "      <th>75%</th>\n",
       "      <td>74.000000</td>\n",
       "      <td>71.750000</td>\n",
       "      <td>0.5</td>\n",
       "      <td>170.250000</td>\n",
       "    </tr>\n",
       "    <tr>\n",
       "      <th>max</th>\n",
       "      <td>98.500000</td>\n",
       "      <td>99.500000</td>\n",
       "      <td>0.5</td>\n",
       "      <td>214.000000</td>\n",
       "    </tr>\n",
       "  </tbody>\n",
       "</table>\n",
       "</div>"
      ],
      "text/plain": [
       "                X           Y      Z  facies_real00000\n",
       "count  100.000000  100.000000  100.0        100.000000\n",
       "mean    49.040000   51.590000    0.5        129.310000\n",
       "std     27.568251   26.294023    0.0         59.952455\n",
       "min      4.500000    5.500000    0.5          3.000000\n",
       "25%     23.250000   30.250000    0.5         97.750000\n",
       "50%     49.000000   49.000000    0.5        154.500000\n",
       "75%     74.000000   71.750000    0.5        170.250000\n",
       "max     98.500000   99.500000    0.5        214.000000"
      ]
     },
     "execution_count": 18,
     "metadata": {},
     "output_type": "execute_result"
    }
   ],
   "source": [
    "df_continuous_obs = pd.DataFrame(read(DATA_DIR+'continous_sample_100.gslib'))\n",
    "df_continuous_obs.describe()"
   ]
  },
  {
   "cell_type": "code",
   "execution_count": 19,
   "metadata": {},
   "outputs": [
    {
     "data": {
      "text/plain": [
       "<matplotlib.axes._subplots.AxesSubplot at 0x7f30c947ebe0>"
      ]
     },
     "execution_count": 19,
     "metadata": {},
     "output_type": "execute_result"
    },
    {
     "data": {
      "image/png": "[encoded data removed]",
      "text/plain": [
       "<Figure size 432x288 with 2 Axes>"
      ]
     },
     "metadata": {
      "needs_background": "light"
     },
     "output_type": "display_data"
    }
   ],
   "source": [
    "# quick plot\n",
    "df_continuous_obs.plot.scatter(x='X', y='Y', c='facies_real00000', cmap='cividis')"
   ]
  },
  {
   "cell_type": "markdown",
   "metadata": {},
   "source": [
    "We know in this case the corresponding TI."
   ]
  },
  {
   "cell_type": "code",
   "execution_count": 20,
   "metadata": {},
   "outputs": [
    {
     "data": {
      "image/png": "[encoded data removed]",
      "text/plain": [
       "<Figure size 432x288 with 2 Axes>"
      ]
     },
     "metadata": {
      "needs_background": "light"
     },
     "output_type": "display_data"
    }
   ],
   "source": [
    "ti = readImageGslib('tiContinuous.gslib')\n",
    "drawImage2D(ti, cmap='cividis', title='TI')"
   ]
  },
  {
   "cell_type": "code",
   "execution_count": 156,
   "metadata": {},
   "outputs": [],
   "source": [
    "# Define the interface for the DeeSse simulation tool\n",
    "deesse_regressor = DeesseRegressor(\n",
    "    varnames = ['X','Y','Z', 'facies'],\n",
    "        nx=100, ny=100, nz=1,     # dimension of the simulation grid (number of cells)\n",
    "        sx=1.0, sy=1.0, sz=1.0,   # cells units in the simulation grid (here are the default values)\n",
    "        ox=0.0, oy=0.0, oz=0.0,   # origin of the simulation grid (here are the default values)\n",
    "        nv=1, varname='facies',   # number of variable(s), name of the variable(s)\n",
    "        nTI=1, TI=ti,           # number of TI(s), TI (class dsi.Img)\n",
    "        distanceType=1,           # distance type: proportion of mismatching nodes (categorical var., default)\n",
    "        nneighboringNode=20,      # max. number of neighbors (for the patterns)\n",
    "        distanceThreshold=0.1,    # acceptation threshold (for distance between patterns)\n",
    "        maxScanFraction=0.5,     # max. scanned fraction of the TI (for simulation of each cell)\n",
    "        npostProcessingPathMax=1, # number of post-processing path(s)\n",
    "        seed=20200226,            # seed (initialization of the random number generator)\n",
    "        nrealization=4,           # number of realization(s)\n",
    "        nthreads=4)               # number of threads to use for simulations"
   ]
  },
  {
   "cell_type": "code",
   "execution_count": 157,
   "metadata": {},
   "outputs": [
    {
     "data": {
      "image/png": "[encoded data removed]",
      "text/plain": [
       "<Figure size 432x288 with 2 Axes>"
      ]
     },
     "metadata": {
      "needs_background": "light"
     },
     "output_type": "display_data"
    }
   ],
   "source": [
    "# show example simulation\n",
    "sim = deesse_regressor.simulate()\n",
    "drawImage2D(sim['sim'][0], cmap='cividis')"
   ]
  },
  {
   "cell_type": "code",
   "execution_count": 158,
   "metadata": {},
   "outputs": [
    {
     "data": {
      "image/png": "[encoded data removed]",
      "text/plain": [
       "<Figure size 432x288 with 2 Axes>"
      ]
     },
     "metadata": {
      "needs_background": "light"
     },
     "output_type": "display_data"
    }
   ],
   "source": [
    "# we know the true field\n",
    "true_field = readImageGslib(DATA_DIR+'continous_sim_100_100.gslib')\n",
    "drawImage2D(true_field, cmap='cividis')"
   ]
  },
  {
   "cell_type": "code",
   "execution_count": 159,
   "metadata": {},
   "outputs": [
    {
     "data": {
      "text/html": [
       "<div>\n",
       "<style scoped>\n",
       "    .dataframe tbody tr th:only-of-type {\n",
       "        vertical-align: middle;\n",
       "    }\n",
       "\n",
       "    .dataframe tbody tr th {\n",
       "        vertical-align: top;\n",
       "    }\n",
       "\n",
       "    .dataframe thead th {\n",
       "        text-align: right;\n",
       "    }\n",
       "</style>\n",
       "<table border=\"1\" class=\"dataframe\">\n",
       "  <thead>\n",
       "    <tr style=\"text-align: right;\">\n",
       "      <th></th>\n",
       "      <th>X</th>\n",
       "      <th>Y</th>\n",
       "      <th>Z</th>\n",
       "      <th>facies_real00000</th>\n",
       "    </tr>\n",
       "  </thead>\n",
       "  <tbody>\n",
       "    <tr>\n",
       "      <th>count</th>\n",
       "      <td>10000.000000</td>\n",
       "      <td>10000.000000</td>\n",
       "      <td>10000.0</td>\n",
       "      <td>10000.000000</td>\n",
       "    </tr>\n",
       "    <tr>\n",
       "      <th>mean</th>\n",
       "      <td>50.000000</td>\n",
       "      <td>50.000000</td>\n",
       "      <td>0.5</td>\n",
       "      <td>133.256500</td>\n",
       "    </tr>\n",
       "    <tr>\n",
       "      <th>std</th>\n",
       "      <td>28.867513</td>\n",
       "      <td>28.867513</td>\n",
       "      <td>0.0</td>\n",
       "      <td>57.254929</td>\n",
       "    </tr>\n",
       "    <tr>\n",
       "      <th>min</th>\n",
       "      <td>0.500000</td>\n",
       "      <td>0.500000</td>\n",
       "      <td>0.5</td>\n",
       "      <td>0.000000</td>\n",
       "    </tr>\n",
       "    <tr>\n",
       "      <th>25%</th>\n",
       "      <td>25.250000</td>\n",
       "      <td>25.250000</td>\n",
       "      <td>0.5</td>\n",
       "      <td>106.000000</td>\n",
       "    </tr>\n",
       "    <tr>\n",
       "      <th>50%</th>\n",
       "      <td>50.000000</td>\n",
       "      <td>50.000000</td>\n",
       "      <td>0.5</td>\n",
       "      <td>152.000000</td>\n",
       "    </tr>\n",
       "    <tr>\n",
       "      <th>75%</th>\n",
       "      <td>74.750000</td>\n",
       "      <td>74.750000</td>\n",
       "      <td>0.5</td>\n",
       "      <td>172.000000</td>\n",
       "    </tr>\n",
       "    <tr>\n",
       "      <th>max</th>\n",
       "      <td>99.500000</td>\n",
       "      <td>99.500000</td>\n",
       "      <td>0.5</td>\n",
       "      <td>255.000000</td>\n",
       "    </tr>\n",
       "  </tbody>\n",
       "</table>\n",
       "</div>"
      ],
      "text/plain": [
       "                  X             Y        Z  facies_real00000\n",
       "count  10000.000000  10000.000000  10000.0      10000.000000\n",
       "mean      50.000000     50.000000      0.5        133.256500\n",
       "std       28.867513     28.867513      0.0         57.254929\n",
       "min        0.500000      0.500000      0.5          0.000000\n",
       "25%       25.250000     25.250000      0.5        106.000000\n",
       "50%       50.000000     50.000000      0.5        152.000000\n",
       "75%       74.750000     74.750000      0.5        172.000000\n",
       "max       99.500000     99.500000      0.5        255.000000"
      ]
     },
     "execution_count": 159,
     "metadata": {},
     "output_type": "execute_result"
    }
   ],
   "source": [
    "# And also all true points as \"true\" gslib\n",
    "field_points = pd.DataFrame(read(DATA_DIR+'true_points.gslib'))\n",
    "field_points.describe()"
   ]
  },
  {
   "cell_type": "markdown",
   "metadata": {},
   "source": [
    "Simulation looks fine. Now, let's use CRPS and 5-fold cross-validation to check sensitivity to the number of realisations."
   ]
  },
  {
   "cell_type": "code",
   "execution_count": 160,
   "metadata": {},
   "outputs": [],
   "source": [
    "cross_validator =  GridSearchCV(deesse_regressor,\n",
    "                    param_grid={'nrealization': range(1,50,3),\n",
    "                                },\n",
    "                    scoring=crps,\n",
    "                    n_jobs=1,\n",
    "                    cv= KFold(n_splits=5,\n",
    "                     shuffle=True,\n",
    "                     random_state=20191201,\n",
    "                    ),\n",
    "                    refit=False,\n",
    "                    verbose=0,\n",
    "                    error_score='raise',\n",
    "                    return_train_score=False,\n",
    "                   )"
   ]
  },
  {
   "cell_type": "code",
   "execution_count": 161,
   "metadata": {},
   "outputs": [
    {
     "data": {
      "text/plain": [
       "GridSearchCV(cv=KFold(n_splits=5, random_state=20191201, shuffle=True),\n",
       "             error_score='raise',\n",
       "             estimator=<geone.deesseinterface.DeesseRegressor object at 0x7f30bf597208>,\n",
       "             iid='deprecated', n_jobs=1,\n",
       "             param_grid={'nrealization': range(1, 50, 3)},\n",
       "             pre_dispatch='2*n_jobs', refit=False, return_train_score=False,\n",
       "             scoring=<function crps at 0x7f30cf6fcea0>, verbose=0)"
      ]
     },
     "execution_count": 161,
     "metadata": {},
     "output_type": "execute_result"
    }
   ],
   "source": [
    "cross_validator.fit(df_continuous_obs[['X','Y','Z']], df_continuous_obs['facies_real00000'])"
   ]
  },
  {
   "cell_type": "code",
   "execution_count": 162,
   "metadata": {},
   "outputs": [
    {
     "data": {
      "text/html": [
       "<div>\n",
       "<style scoped>\n",
       "    .dataframe tbody tr th:only-of-type {\n",
       "        vertical-align: middle;\n",
       "    }\n",
       "\n",
       "    .dataframe tbody tr th {\n",
       "        vertical-align: top;\n",
       "    }\n",
       "\n",
       "    .dataframe thead th {\n",
       "        text-align: right;\n",
       "    }\n",
       "</style>\n",
       "<table border=\"1\" class=\"dataframe\">\n",
       "  <thead>\n",
       "    <tr style=\"text-align: right;\">\n",
       "      <th></th>\n",
       "      <th>mean_fit_time</th>\n",
       "      <th>std_fit_time</th>\n",
       "      <th>mean_score_time</th>\n",
       "      <th>std_score_time</th>\n",
       "      <th>param_nrealization</th>\n",
       "      <th>params</th>\n",
       "      <th>split0_test_score</th>\n",
       "      <th>split1_test_score</th>\n",
       "      <th>split2_test_score</th>\n",
       "      <th>split3_test_score</th>\n",
       "      <th>split4_test_score</th>\n",
       "      <th>mean_test_score</th>\n",
       "      <th>std_test_score</th>\n",
       "      <th>rank_test_score</th>\n",
       "    </tr>\n",
       "  </thead>\n",
       "  <tbody>\n",
       "    <tr>\n",
       "      <th>0</th>\n",
       "      <td>0.001403</td>\n",
       "      <td>0.000138</td>\n",
       "      <td>0.199953</td>\n",
       "      <td>0.009512</td>\n",
       "      <td>1</td>\n",
       "      <td>{'nrealization': 1}</td>\n",
       "      <td>41.850000</td>\n",
       "      <td>36.500000</td>\n",
       "      <td>30.200000</td>\n",
       "      <td>54.950000</td>\n",
       "      <td>36.000000</td>\n",
       "      <td>39.900000</td>\n",
       "      <td>8.380513</td>\n",
       "      <td>1</td>\n",
       "    </tr>\n",
       "    <tr>\n",
       "      <th>1</th>\n",
       "      <td>0.001359</td>\n",
       "      <td>0.000010</td>\n",
       "      <td>0.733535</td>\n",
       "      <td>0.039299</td>\n",
       "      <td>4</td>\n",
       "      <td>{'nrealization': 4}</td>\n",
       "      <td>21.906250</td>\n",
       "      <td>28.734375</td>\n",
       "      <td>30.625000</td>\n",
       "      <td>27.403125</td>\n",
       "      <td>22.675000</td>\n",
       "      <td>26.268750</td>\n",
       "      <td>3.414366</td>\n",
       "      <td>2</td>\n",
       "    </tr>\n",
       "    <tr>\n",
       "      <th>2</th>\n",
       "      <td>0.001369</td>\n",
       "      <td>0.000004</td>\n",
       "      <td>1.289157</td>\n",
       "      <td>0.082488</td>\n",
       "      <td>7</td>\n",
       "      <td>{'nrealization': 7}</td>\n",
       "      <td>23.357143</td>\n",
       "      <td>24.966327</td>\n",
       "      <td>30.777551</td>\n",
       "      <td>24.335714</td>\n",
       "      <td>21.119388</td>\n",
       "      <td>24.911224</td>\n",
       "      <td>3.210646</td>\n",
       "      <td>3</td>\n",
       "    </tr>\n",
       "    <tr>\n",
       "      <th>3</th>\n",
       "      <td>0.001693</td>\n",
       "      <td>0.000616</td>\n",
       "      <td>1.828186</td>\n",
       "      <td>0.069692</td>\n",
       "      <td>10</td>\n",
       "      <td>{'nrealization': 10}</td>\n",
       "      <td>23.531500</td>\n",
       "      <td>21.478000</td>\n",
       "      <td>25.416000</td>\n",
       "      <td>24.650000</td>\n",
       "      <td>18.328000</td>\n",
       "      <td>22.680700</td>\n",
       "      <td>2.548582</td>\n",
       "      <td>4</td>\n",
       "    </tr>\n",
       "    <tr>\n",
       "      <th>4</th>\n",
       "      <td>0.001678</td>\n",
       "      <td>0.000588</td>\n",
       "      <td>2.364016</td>\n",
       "      <td>0.096444</td>\n",
       "      <td>13</td>\n",
       "      <td>{'nrealization': 13}</td>\n",
       "      <td>24.081953</td>\n",
       "      <td>22.777219</td>\n",
       "      <td>25.138166</td>\n",
       "      <td>21.690533</td>\n",
       "      <td>18.574556</td>\n",
       "      <td>22.452485</td>\n",
       "      <td>2.262406</td>\n",
       "      <td>7</td>\n",
       "    </tr>\n",
       "  </tbody>\n",
       "</table>\n",
       "</div>"
      ],
      "text/plain": [
       "   mean_fit_time  std_fit_time  mean_score_time  std_score_time  \\\n",
       "0       0.001403      0.000138         0.199953        0.009512   \n",
       "1       0.001359      0.000010         0.733535        0.039299   \n",
       "2       0.001369      0.000004         1.289157        0.082488   \n",
       "3       0.001693      0.000616         1.828186        0.069692   \n",
       "4       0.001678      0.000588         2.364016        0.096444   \n",
       "\n",
       "  param_nrealization                params  split0_test_score  \\\n",
       "0                  1   {'nrealization': 1}          41.850000   \n",
       "1                  4   {'nrealization': 4}          21.906250   \n",
       "2                  7   {'nrealization': 7}          23.357143   \n",
       "3                 10  {'nrealization': 10}          23.531500   \n",
       "4                 13  {'nrealization': 13}          24.081953   \n",
       "\n",
       "   split1_test_score  split2_test_score  split3_test_score  split4_test_score  \\\n",
       "0          36.500000          30.200000          54.950000          36.000000   \n",
       "1          28.734375          30.625000          27.403125          22.675000   \n",
       "2          24.966327          30.777551          24.335714          21.119388   \n",
       "3          21.478000          25.416000          24.650000          18.328000   \n",
       "4          22.777219          25.138166          21.690533          18.574556   \n",
       "\n",
       "   mean_test_score  std_test_score  rank_test_score  \n",
       "0        39.900000        8.380513                1  \n",
       "1        26.268750        3.414366                2  \n",
       "2        24.911224        3.210646                3  \n",
       "3        22.680700        2.548582                4  \n",
       "4        22.452485        2.262406                7  "
      ]
     },
     "execution_count": 162,
     "metadata": {},
     "output_type": "execute_result"
    }
   ],
   "source": [
    "df_cv_results = pd.DataFrame(cross_validator.cv_results_)\n",
    "df_cv_results.head()"
   ]
  },
  {
   "cell_type": "code",
   "execution_count": 163,
   "metadata": {},
   "outputs": [
    {
     "data": {
      "text/plain": [
       "<matplotlib.axes._subplots.AxesSubplot at 0x7f30c0a49ef0>"
      ]
     },
     "execution_count": 163,
     "metadata": {},
     "output_type": "execute_result"
    },
    {
     "data": {
      "image/png": "[encoded data removed]",
      "text/plain": [
       "<Figure size 432x288 with 1 Axes>"
      ]
     },
     "metadata": {
      "needs_background": "light"
     },
     "output_type": "display_data"
    }
   ],
   "source": [
    "df_cv_results.plot(x='param_nrealization', y='mean_test_score')"
   ]
  },
  {
   "cell_type": "code",
   "execution_count": 164,
   "metadata": {},
   "outputs": [
    {
     "data": {
      "text/plain": [
       "<matplotlib.axes._subplots.AxesSubplot at 0x7f30c0083438>"
      ]
     },
     "execution_count": 164,
     "metadata": {},
     "output_type": "execute_result"
    },
    {
     "data": {
      "image/png": "[encoded data removed]",
      "text/plain": [
       "<Figure size 432x288 with 1 Axes>"
      ]
     },
     "metadata": {
      "needs_background": "light"
     },
     "output_type": "display_data"
    }
   ],
   "source": [
    "df_cv_results.plot(x='param_nrealization', y='std_test_score')"
   ]
  },
  {
   "cell_type": "code",
   "execution_count": 75,
   "metadata": {},
   "outputs": [],
   "source": [
    "df_copy = df_continuous_obs.copy()"
   ]
  },
  {
   "cell_type": "code",
   "execution_count": 78,
   "metadata": {},
   "outputs": [],
   "source": [
    "df_copy.index = pd.MultiIndex.from_arrays([df_copy['X'], df_copy['Y'], df_copy['Z']])"
   ]
  },
  {
   "cell_type": "code",
   "execution_count": 79,
   "metadata": {},
   "outputs": [
    {
     "data": {
      "text/html": [
       "<div>\n",
       "<style scoped>\n",
       "    .dataframe tbody tr th:only-of-type {\n",
       "        vertical-align: middle;\n",
       "    }\n",
       "\n",
       "    .dataframe tbody tr th {\n",
       "        vertical-align: top;\n",
       "    }\n",
       "\n",
       "    .dataframe thead th {\n",
       "        text-align: right;\n",
       "    }\n",
       "</style>\n",
       "<table border=\"1\" class=\"dataframe\">\n",
       "  <thead>\n",
       "    <tr style=\"text-align: right;\">\n",
       "      <th></th>\n",
       "      <th></th>\n",
       "      <th></th>\n",
       "      <th>X</th>\n",
       "      <th>Y</th>\n",
       "      <th>Z</th>\n",
       "      <th>facies_real00000</th>\n",
       "    </tr>\n",
       "    <tr>\n",
       "      <th>X</th>\n",
       "      <th>Y</th>\n",
       "      <th>Z</th>\n",
       "      <th></th>\n",
       "      <th></th>\n",
       "      <th></th>\n",
       "      <th></th>\n",
       "    </tr>\n",
       "  </thead>\n",
       "  <tbody>\n",
       "    <tr>\n",
       "      <th>37.5</th>\n",
       "      <th>23.5</th>\n",
       "      <th>0.5</th>\n",
       "      <td>37.5</td>\n",
       "      <td>23.5</td>\n",
       "      <td>0.5</td>\n",
       "      <td>35.0</td>\n",
       "    </tr>\n",
       "    <tr>\n",
       "      <th>91.5</th>\n",
       "      <th>63.5</th>\n",
       "      <th>0.5</th>\n",
       "      <td>91.5</td>\n",
       "      <td>63.5</td>\n",
       "      <td>0.5</td>\n",
       "      <td>194.0</td>\n",
       "    </tr>\n",
       "    <tr>\n",
       "      <th>97.5</th>\n",
       "      <th>27.5</th>\n",
       "      <th>0.5</th>\n",
       "      <td>97.5</td>\n",
       "      <td>27.5</td>\n",
       "      <td>0.5</td>\n",
       "      <td>156.0</td>\n",
       "    </tr>\n",
       "    <tr>\n",
       "      <th>86.5</th>\n",
       "      <th>33.5</th>\n",
       "      <th>0.5</th>\n",
       "      <td>86.5</td>\n",
       "      <td>33.5</td>\n",
       "      <td>0.5</td>\n",
       "      <td>123.0</td>\n",
       "    </tr>\n",
       "    <tr>\n",
       "      <th>80.5</th>\n",
       "      <th>19.5</th>\n",
       "      <th>0.5</th>\n",
       "      <td>80.5</td>\n",
       "      <td>19.5</td>\n",
       "      <td>0.5</td>\n",
       "      <td>155.0</td>\n",
       "    </tr>\n",
       "  </tbody>\n",
       "</table>\n",
       "</div>"
      ],
      "text/plain": [
       "                  X     Y    Z  facies_real00000\n",
       "X    Y    Z                                     \n",
       "37.5 23.5 0.5  37.5  23.5  0.5              35.0\n",
       "91.5 63.5 0.5  91.5  63.5  0.5             194.0\n",
       "97.5 27.5 0.5  97.5  27.5  0.5             156.0\n",
       "86.5 33.5 0.5  86.5  33.5  0.5             123.0\n",
       "80.5 19.5 0.5  80.5  19.5  0.5             155.0"
      ]
     },
     "execution_count": 79,
     "metadata": {},
     "output_type": "execute_result"
    }
   ],
   "source": [
    "df_copy.head()"
   ]
  },
  {
   "cell_type": "code",
   "execution_count": null,
   "metadata": {},
   "outputs": [],
   "source": []
  },
  {
   "cell_type": "code",
   "execution_count": 143,
   "metadata": {},
   "outputs": [],
   "source": [
    "field_points_copy = field_points.copy()"
   ]
  },
  {
   "cell_type": "code",
   "execution_count": 144,
   "metadata": {},
   "outputs": [],
   "source": [
    "field_points_copy.index = pd.MultiIndex.from_arrays([field_points_copy['X'], field_points_copy['Y'], field_points_copy['Z']])"
   ]
  },
  {
   "cell_type": "code",
   "execution_count": 145,
   "metadata": {},
   "outputs": [],
   "source": [
    "field_points_copy['split'] = 0"
   ]
  },
  {
   "cell_type": "code",
   "execution_count": 146,
   "metadata": {},
   "outputs": [
    {
     "name": "stderr",
     "output_type": "stream",
     "text": [
      "/home/judap/source/geone/venv/lib/python3.6/site-packages/IPython/core/interactiveshell.py:2848: PerformanceWarning: indexing past lexsort depth may impact performance.\n",
      "  raw_cell, store_history, silent, shell_futures)\n"
     ]
    }
   ],
   "source": [
    "field_points_copy.loc[field_points_copy.index.isin(df_copy.index), 'split'] = -1"
   ]
  },
  {
   "cell_type": "code",
   "execution_count": 147,
   "metadata": {},
   "outputs": [
    {
     "data": {
      "text/html": [
       "<div>\n",
       "<style scoped>\n",
       "    .dataframe tbody tr th:only-of-type {\n",
       "        vertical-align: middle;\n",
       "    }\n",
       "\n",
       "    .dataframe tbody tr th {\n",
       "        vertical-align: top;\n",
       "    }\n",
       "\n",
       "    .dataframe thead th {\n",
       "        text-align: right;\n",
       "    }\n",
       "</style>\n",
       "<table border=\"1\" class=\"dataframe\">\n",
       "  <thead>\n",
       "    <tr style=\"text-align: right;\">\n",
       "      <th></th>\n",
       "      <th>X</th>\n",
       "      <th>Y</th>\n",
       "      <th>Z</th>\n",
       "      <th>facies_real00000</th>\n",
       "      <th>split</th>\n",
       "    </tr>\n",
       "  </thead>\n",
       "  <tbody>\n",
       "    <tr>\n",
       "      <th>count</th>\n",
       "      <td>10000.000000</td>\n",
       "      <td>10000.000000</td>\n",
       "      <td>10000.0</td>\n",
       "      <td>10000.000000</td>\n",
       "      <td>10000.000000</td>\n",
       "    </tr>\n",
       "    <tr>\n",
       "      <th>mean</th>\n",
       "      <td>50.000000</td>\n",
       "      <td>50.000000</td>\n",
       "      <td>0.5</td>\n",
       "      <td>133.256500</td>\n",
       "      <td>-0.010000</td>\n",
       "    </tr>\n",
       "    <tr>\n",
       "      <th>std</th>\n",
       "      <td>28.867513</td>\n",
       "      <td>28.867513</td>\n",
       "      <td>0.0</td>\n",
       "      <td>57.254929</td>\n",
       "      <td>0.099504</td>\n",
       "    </tr>\n",
       "    <tr>\n",
       "      <th>min</th>\n",
       "      <td>0.500000</td>\n",
       "      <td>0.500000</td>\n",
       "      <td>0.5</td>\n",
       "      <td>0.000000</td>\n",
       "      <td>-1.000000</td>\n",
       "    </tr>\n",
       "    <tr>\n",
       "      <th>25%</th>\n",
       "      <td>25.250000</td>\n",
       "      <td>25.250000</td>\n",
       "      <td>0.5</td>\n",
       "      <td>106.000000</td>\n",
       "      <td>0.000000</td>\n",
       "    </tr>\n",
       "    <tr>\n",
       "      <th>50%</th>\n",
       "      <td>50.000000</td>\n",
       "      <td>50.000000</td>\n",
       "      <td>0.5</td>\n",
       "      <td>152.000000</td>\n",
       "      <td>0.000000</td>\n",
       "    </tr>\n",
       "    <tr>\n",
       "      <th>75%</th>\n",
       "      <td>74.750000</td>\n",
       "      <td>74.750000</td>\n",
       "      <td>0.5</td>\n",
       "      <td>172.000000</td>\n",
       "      <td>0.000000</td>\n",
       "    </tr>\n",
       "    <tr>\n",
       "      <th>max</th>\n",
       "      <td>99.500000</td>\n",
       "      <td>99.500000</td>\n",
       "      <td>0.5</td>\n",
       "      <td>255.000000</td>\n",
       "      <td>0.000000</td>\n",
       "    </tr>\n",
       "  </tbody>\n",
       "</table>\n",
       "</div>"
      ],
      "text/plain": [
       "                  X             Y        Z  facies_real00000         split\n",
       "count  10000.000000  10000.000000  10000.0      10000.000000  10000.000000\n",
       "mean      50.000000     50.000000      0.5        133.256500     -0.010000\n",
       "std       28.867513     28.867513      0.0         57.254929      0.099504\n",
       "min        0.500000      0.500000      0.5          0.000000     -1.000000\n",
       "25%       25.250000     25.250000      0.5        106.000000      0.000000\n",
       "50%       50.000000     50.000000      0.5        152.000000      0.000000\n",
       "75%       74.750000     74.750000      0.5        172.000000      0.000000\n",
       "max       99.500000     99.500000      0.5        255.000000      0.000000"
      ]
     },
     "execution_count": 147,
     "metadata": {},
     "output_type": "execute_result"
    }
   ],
   "source": [
    "field_points_copy.describe()"
   ]
  },
  {
   "cell_type": "code",
   "execution_count": null,
   "metadata": {},
   "outputs": [],
   "source": [
    "deesse_regressor.fit(df_continuous_obs[['X','Y','Z']], df_continuous_obs['facies_real00000'])"
   ]
  },
  {
   "cell_type": "code",
   "execution_count": 148,
   "metadata": {},
   "outputs": [],
   "source": [
    "from sklearn.model_selection import PredefinedSplit\n",
    "ps = PredefinedSplit(field_points_copy['split'])"
   ]
  },
  {
   "cell_type": "code",
   "execution_count": 149,
   "metadata": {},
   "outputs": [],
   "source": [
    "cross_validator_exact =  GridSearchCV(deesse_regressor,\n",
    "                    param_grid={'nrealization': range(1,50,3),\n",
    "                                },\n",
    "                    scoring=crps,\n",
    "                    n_jobs=1,\n",
    "                    cv=ps,\n",
    "                    refit=False,\n",
    "                    verbose=0,\n",
    "                    error_score='raise',\n",
    "                    return_train_score=False,\n",
    "                   )"
   ]
  },
  {
   "cell_type": "code",
   "execution_count": 150,
   "metadata": {},
   "outputs": [
    {
     "data": {
      "text/plain": [
       "GridSearchCV(cv=PredefinedSplit(test_fold=array([0, 0, ..., 0, 0])),\n",
       "             error_score='raise',\n",
       "             estimator=<geone.deesseinterface.DeesseRegressor object at 0x7f30cb557be0>,\n",
       "             iid='deprecated', n_jobs=1,\n",
       "             param_grid={'nrealization': range(1, 50, 3)},\n",
       "             pre_dispatch='2*n_jobs', refit=False, return_train_score=False,\n",
       "             scoring=<function crps at 0x7f30cf6fcea0>, verbose=0)"
      ]
     },
     "execution_count": 150,
     "metadata": {},
     "output_type": "execute_result"
    }
   ],
   "source": [
    "cross_validator_exact.fit(field_points_copy[['X','Y','Z']], field_points_copy['facies_real00000'])"
   ]
  },
  {
   "cell_type": "code",
   "execution_count": 151,
   "metadata": {},
   "outputs": [
    {
     "data": {
      "text/html": [
       "<div>\n",
       "<style scoped>\n",
       "    .dataframe tbody tr th:only-of-type {\n",
       "        vertical-align: middle;\n",
       "    }\n",
       "\n",
       "    .dataframe tbody tr th {\n",
       "        vertical-align: top;\n",
       "    }\n",
       "\n",
       "    .dataframe thead th {\n",
       "        text-align: right;\n",
       "    }\n",
       "</style>\n",
       "<table border=\"1\" class=\"dataframe\">\n",
       "  <thead>\n",
       "    <tr style=\"text-align: right;\">\n",
       "      <th></th>\n",
       "      <th>mean_fit_time</th>\n",
       "      <th>std_fit_time</th>\n",
       "      <th>mean_score_time</th>\n",
       "      <th>std_score_time</th>\n",
       "      <th>param_nrealization</th>\n",
       "      <th>params</th>\n",
       "      <th>split0_test_score</th>\n",
       "      <th>mean_test_score</th>\n",
       "      <th>std_test_score</th>\n",
       "      <th>rank_test_score</th>\n",
       "    </tr>\n",
       "  </thead>\n",
       "  <tbody>\n",
       "    <tr>\n",
       "      <th>0</th>\n",
       "      <td>0.001893</td>\n",
       "      <td>0.0</td>\n",
       "      <td>1.709891</td>\n",
       "      <td>0.0</td>\n",
       "      <td>1</td>\n",
       "      <td>{'nrealization': 1}</td>\n",
       "      <td>44.184747</td>\n",
       "      <td>44.184747</td>\n",
       "      <td>0.0</td>\n",
       "      <td>1</td>\n",
       "    </tr>\n",
       "    <tr>\n",
       "      <th>1</th>\n",
       "      <td>0.001710</td>\n",
       "      <td>0.0</td>\n",
       "      <td>2.287654</td>\n",
       "      <td>0.0</td>\n",
       "      <td>4</td>\n",
       "      <td>{'nrealization': 4}</td>\n",
       "      <td>28.050069</td>\n",
       "      <td>28.050069</td>\n",
       "      <td>0.0</td>\n",
       "      <td>2</td>\n",
       "    </tr>\n",
       "    <tr>\n",
       "      <th>2</th>\n",
       "      <td>0.001678</td>\n",
       "      <td>0.0</td>\n",
       "      <td>2.799456</td>\n",
       "      <td>0.0</td>\n",
       "      <td>7</td>\n",
       "      <td>{'nrealization': 7}</td>\n",
       "      <td>26.588470</td>\n",
       "      <td>26.588470</td>\n",
       "      <td>0.0</td>\n",
       "      <td>3</td>\n",
       "    </tr>\n",
       "    <tr>\n",
       "      <th>3</th>\n",
       "      <td>0.001677</td>\n",
       "      <td>0.0</td>\n",
       "      <td>3.340667</td>\n",
       "      <td>0.0</td>\n",
       "      <td>10</td>\n",
       "      <td>{'nrealization': 10}</td>\n",
       "      <td>25.413225</td>\n",
       "      <td>25.413225</td>\n",
       "      <td>0.0</td>\n",
       "      <td>4</td>\n",
       "    </tr>\n",
       "    <tr>\n",
       "      <th>4</th>\n",
       "      <td>0.001674</td>\n",
       "      <td>0.0</td>\n",
       "      <td>3.887204</td>\n",
       "      <td>0.0</td>\n",
       "      <td>13</td>\n",
       "      <td>{'nrealization': 13}</td>\n",
       "      <td>24.676508</td>\n",
       "      <td>24.676508</td>\n",
       "      <td>0.0</td>\n",
       "      <td>5</td>\n",
       "    </tr>\n",
       "  </tbody>\n",
       "</table>\n",
       "</div>"
      ],
      "text/plain": [
       "   mean_fit_time  std_fit_time  mean_score_time  std_score_time  \\\n",
       "0       0.001893           0.0         1.709891             0.0   \n",
       "1       0.001710           0.0         2.287654             0.0   \n",
       "2       0.001678           0.0         2.799456             0.0   \n",
       "3       0.001677           0.0         3.340667             0.0   \n",
       "4       0.001674           0.0         3.887204             0.0   \n",
       "\n",
       "  param_nrealization                params  split0_test_score  \\\n",
       "0                  1   {'nrealization': 1}          44.184747   \n",
       "1                  4   {'nrealization': 4}          28.050069   \n",
       "2                  7   {'nrealization': 7}          26.588470   \n",
       "3                 10  {'nrealization': 10}          25.413225   \n",
       "4                 13  {'nrealization': 13}          24.676508   \n",
       "\n",
       "   mean_test_score  std_test_score  rank_test_score  \n",
       "0        44.184747             0.0                1  \n",
       "1        28.050069             0.0                2  \n",
       "2        26.588470             0.0                3  \n",
       "3        25.413225             0.0                4  \n",
       "4        24.676508             0.0                5  "
      ]
     },
     "execution_count": 151,
     "metadata": {},
     "output_type": "execute_result"
    }
   ],
   "source": [
    "df_results2= pd.DataFrame(cross_validator_exact.cv_results_)\n",
    "df_results2.head()"
   ]
  },
  {
   "cell_type": "code",
   "execution_count": 165,
   "metadata": {},
   "outputs": [
    {
     "data": {
      "text/plain": [
       "<matplotlib.axes._subplots.AxesSubplot at 0x7f30c114db00>"
      ]
     },
     "execution_count": 165,
     "metadata": {},
     "output_type": "execute_result"
    },
    {
     "data": {
      "image/png": "[encoded data removed]",
      "text/plain": [
       "<Figure size 432x288 with 1 Axes>"
      ]
     },
     "metadata": {
      "needs_background": "light"
     },
     "output_type": "display_data"
    },
    {
     "data": {
      "image/png": "[encoded data removed]",
      "text/plain": [
       "<Figure size 432x288 with 1 Axes>"
      ]
     },
     "metadata": {
      "needs_background": "light"
     },
     "output_type": "display_data"
    }
   ],
   "source": [
    "df_results2.plot(x='param_nrealization', y='mean_test_score')\n",
    "df_cv_results.plot(x='param_nrealization', y='mean_test_score')"
   ]
  },
  {
   "cell_type": "code",
   "execution_count": null,
   "metadata": {},
   "outputs": [],
   "source": []
  }
 ],
 "metadata": {
  "kernelspec": {
   "display_name": "Python 3",
   "language": "python",
   "name": "python3"
  },
  "language_info": {
   "codemirror_mode": {
    "name": "ipython",
    "version": 3
   },
   "file_extension": ".py",
   "mimetype": "text/x-python",
   "name": "python",
   "nbconvert_exporter": "python",
   "pygments_lexer": "ipython3",
   "version": "3.6.9"
  }
 },
 "nbformat": 4,
 "nbformat_minor": 2
}
